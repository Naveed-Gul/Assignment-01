{
  "nbformat": 4,
  "nbformat_minor": 0,
  "metadata": {
    "colab": {
      "provenance": [],
      "include_colab_link": true
    },
    "kernelspec": {
      "name": "python3",
      "display_name": "Python 3"
    },
    "language_info": {
      "name": "python"
    }
  },
  "cells": [
    {
      "cell_type": "markdown",
      "metadata": {
        "id": "view-in-github",
        "colab_type": "text"
      },
      "source": [
        "<a href=\"https://colab.research.google.com/github/Naveed-Gul/Assignment-01/blob/main/PythonCaseStudy.ipynb\" target=\"_parent\"><img src=\"https://colab.research.google.com/assets/colab-badge.svg\" alt=\"Open In Colab\"/></a>"
      ]
    },
    {
      "cell_type": "markdown",
      "source": [
        "# First Case Study : Miles Per Gallon"
      ],
      "metadata": {
        "id": "FUdVa7Q6pOBc"
      }
    },
    {
      "cell_type": "code",
      "source": [
        "def miles_per_gallon():\n",
        "    # Initialize total miles and total gallons\n",
        "    total_miles = 0.0\n",
        "    total_gallons = 0.0\n",
        "\n",
        "    # Loop to input data until sentinel value is entered\n",
        "    while True:\n",
        "        # Prompt user to input gallons used\n",
        "        gallons = float(input(\"Enter the gallons used (-1 to end): \"))\n",
        "        if gallons == -1:\n",
        "            break\n",
        "\n",
        "        # Prompt user to input miles driven\n",
        "        miles = float(input(\"Enter the miles driven: \"))\n",
        "\n",
        "        # Calculate miles per gallon for the current tank\n",
        "        mpg = miles / gallons\n",
        "        # Round the result to 6 decimal places\n",
        "        mpg = round(mpg, 6)\n",
        "\n",
        "        # Check if the gallon value has no decimal part, if so, print without decimal\n",
        "        gallons_display = f\"{gallons:.1f}\" if gallons % 1 != 0 else f\"{int(gallons)}\"\n",
        "\n",
        "        # Check if the miles value has no decimal part, if so, print without decimal\n",
        "        miles_display = f\"{miles:.1f}\" if miles % 1 != 0 else f\"{int(miles)}\"\n",
        "\n",
        "        # Print the input values and the calculated miles per gallon\n",
        "        # print(f\"Enter the gallons used (-1 to end): {gallons_display}\")\n",
        "        # print(f\"Enter the miles driven: {miles_display}\")\n",
        "        print(f\"The miles/gallon for this tank was {mpg:.6f}\")\n",
        "\n",
        "        # Update the total miles and total gallons\n",
        "        total_miles += miles\n",
        "        total_gallons += gallons\n",
        "\n",
        "    # Calculate and print the overall average miles per gallon if there are any gallons used\n",
        "    if total_gallons != 0:\n",
        "        overall_mpg = total_miles / total_gallons\n",
        "        overall_mpg = round(overall_mpg, 6)\n",
        "        print(f\"The overall average miles/gallon was {overall_mpg:.6f}\")\n",
        "    else:\n",
        "        print(\"No data to calculate overall miles/gallon.\")\n",
        "\n",
        "if __name__ == \"__main__\":\n",
        "    miles_per_gallon()"
      ],
      "metadata": {
        "id": "cuVMGTnMpPR7",
        "colab": {
          "base_uri": "https://localhost:8080/"
        },
        "outputId": "76ebbe4f-ef6a-4f1f-c66d-c8e32f25b241"
      },
      "execution_count": null,
      "outputs": [
        {
          "output_type": "stream",
          "name": "stdout",
          "text": [
            "Enter the gallons used (-1 to end): 12.8\n",
            "Enter the miles driven: 287\n",
            "The miles/gallon for this tank was 22.421875\n",
            "Enter the gallons used (-1 to end): 10.3\n",
            "Enter the miles driven: 200\n",
            "The miles/gallon for this tank was 19.417476\n",
            "Enter the gallons used (-1 to end): 5\n",
            "Enter the miles driven: 120\n",
            "The miles/gallon for this tank was 24.000000\n",
            "Enter the gallons used (-1 to end): -1\n",
            "The overall average miles/gallon was 21.601423\n"
          ]
        }
      ]
    },
    {
      "cell_type": "markdown",
      "source": [
        "# Second Case Study: A Game of Chance - Crap\n"
      ],
      "metadata": {
        "id": "-CKrKuK1pMQo"
      }
    },
    {
      "cell_type": "code",
      "source": [
        "def roll_dice():\n",
        "    while True:\n",
        "      dice_input = input(\"Enter the values of the two dice (example: 2 5): \")\n",
        "      dice1, dice2 = map(int, dice_input.split())\n",
        "      if 1 <= dice1 <= 6 and 1 <= dice2 <= 6:\n",
        "        return dice1, dice2\n",
        "      else:\n",
        "        print(\"Invalid input. Please enter a number between 1 and 6 for both dice.\")\n",
        "\n",
        "def play_game():\n",
        "    print(\"A Game of Chance - Craps\")\n",
        "\n",
        "    # First roll\n",
        "    dice1, dice2 = roll_dice()\n",
        "    sum_dice = dice1 + dice2\n",
        "    print(f\"You rolled: {dice1} + {dice2} = {sum_dice}\")\n",
        "\n",
        "    if sum_dice == 7 or sum_dice == 11:\n",
        "        print(\"You win!\")\n",
        "        return \"win\"\n",
        "    elif sum_dice == 2 or sum_dice == 3 or sum_dice == 12:\n",
        "        print(\"Craps! You lose!\")\n",
        "        return \"lose\"\n",
        "    else:\n",
        "        point = sum_dice\n",
        "        print(f\"Your point is {point}. Keep rolling to make your point.\")\n",
        "\n",
        "    # Continue rolling\n",
        "    while True:\n",
        "        dice1, dice2 = roll_dice()\n",
        "        sum_dice = dice1 + dice2\n",
        "        print(f\"You rolled: {dice1} + {dice2} = {sum_dice}\")\n",
        "\n",
        "        if sum_dice == point:\n",
        "            print(\"You made your point! You win!\")\n",
        "            return \"win\"\n",
        "        elif sum_dice == 7:\n",
        "            print(\"You rolled a 7. You lose!\")\n",
        "            return \"lose\"\n",
        "\n",
        "def main():\n",
        "    \"\"\"Main game loop.\"\"\"\n",
        "    wins = 0\n",
        "    losses = 0\n",
        "\n",
        "    while True:\n",
        "        print(\"\\n--- New Game ---\")\n",
        "        result = play_game()\n",
        "\n",
        "        if result == \"win\":\n",
        "            wins += 1\n",
        "        elif result == \"lose\":\n",
        "            losses += 1\n",
        "\n",
        "        print(f\"\\nScore - Wins: {wins}, Losses: {losses}\")\n",
        "\n",
        "        play_again = input(\"Do you want to play again? (y/n): \").lower()\n",
        "        if play_again != 'y':\n",
        "            break\n",
        "\n",
        "    print(f\"\\nThanks for playing! Final score - Wins: {wins}, Losses: {losses}\")\n",
        "\n",
        "if __name__ == \"__main__\":\n",
        "    main()\n"
      ],
      "metadata": {
        "id": "R9A-l0jbpNhK",
        "colab": {
          "base_uri": "https://localhost:8080/"
        },
        "outputId": "6af8cba1-29a7-4637-b09c-b6fa10583d09"
      },
      "execution_count": null,
      "outputs": [
        {
          "output_type": "stream",
          "name": "stdout",
          "text": [
            "\n",
            "--- New Game ---\n",
            "A Game of Chance - Craps\n",
            "Enter the values of the two dice (example: 2 5): 2 5\n",
            "You rolled: 2 + 5 = 7\n",
            "You win!\n",
            "\n",
            "Score - Wins: 1, Losses: 0\n",
            "Do you want to play again? (y/n): y\n",
            "\n",
            "--- New Game ---\n",
            "A Game of Chance - Craps\n",
            "Enter the values of the two dice (example: 2 5): 1 1\n",
            "You rolled: 1 + 1 = 2\n",
            "Craps! You lose!\n",
            "\n",
            "Score - Wins: 1, Losses: 1\n",
            "Do you want to play again? (y/n): y\n",
            "\n",
            "--- New Game ---\n",
            "A Game of Chance - Craps\n",
            "Enter the values of the two dice (example: 2 5): 5 5\n",
            "You rolled: 5 + 5 = 10\n",
            "Your point is 10. Keep rolling to make your point.\n",
            "Enter the values of the two dice (example: 2 5): 4 6\n",
            "You rolled: 4 + 6 = 10\n",
            "You made your point! You win!\n",
            "\n",
            "Score - Wins: 2, Losses: 1\n",
            "Do you want to play again? (y/n): y\n",
            "\n",
            "--- New Game ---\n",
            "A Game of Chance - Craps\n",
            "Enter the values of the two dice (example: 2 5): 5 5\n",
            "You rolled: 5 + 5 = 10\n",
            "Your point is 10. Keep rolling to make your point.\n",
            "Enter the values of the two dice (example: 2 5): 2 2\n",
            "You rolled: 2 + 2 = 4\n",
            "Enter the values of the two dice (example: 2 5): 4 6\n",
            "You rolled: 4 + 6 = 10\n",
            "You made your point! You win!\n",
            "\n",
            "Score - Wins: 3, Losses: 1\n",
            "Do you want to play again? (y/n): y\n",
            "\n",
            "--- New Game ---\n",
            "A Game of Chance - Craps\n",
            "Enter the values of the two dice (example: 2 5): 5 5\n",
            "You rolled: 5 + 5 = 10\n",
            "Your point is 10. Keep rolling to make your point.\n",
            "Enter the values of the two dice (example: 2 5): 2 5\n",
            "You rolled: 2 + 5 = 7\n",
            "You rolled a 7. You lose!\n",
            "\n",
            "Score - Wins: 3, Losses: 2\n",
            "Do you want to play again? (y/n): n\n",
            "\n",
            "Thanks for playing! Final score - Wins: 3, Losses: 2\n"
          ]
        }
      ]
    },
    {
      "cell_type": "markdown",
      "source": [
        "# Third Case Study: COVID 19 Infection Statistic\n"
      ],
      "metadata": {
        "id": "wgeU-7zjpC3z"
      }
    },
    {
      "cell_type": "code",
      "execution_count": null,
      "metadata": {
        "id": "QYbFvDYSd-CI",
        "colab": {
          "base_uri": "https://localhost:8080/"
        },
        "outputId": "d2bdc5e4-df37-41bc-d533-0895ec0d3c82"
      },
      "outputs": [
        {
          "output_type": "stream",
          "name": "stdout",
          "text": [
            "the maximum number of infected patients in 20 days is 1704\n",
            "the minimum number of infected patients in 20 days is 174\n",
            "the range of the number of infected patients in 20 days is 1530\n",
            "the mean of the number of infected patients in 20 days is 845.7\n",
            "the median of the number of infected patients in 20 days is 704.5\n",
            "the mode of the number of infected patients in 20 days is 174\n",
            "the variance of the number of infected patients in 20 days is 253620.74736842106\n",
            "the standard deviation of the number of infected patients in 20 days is 503.60773164082883\n"
          ]
        }
      ],
      "source": [
        "import statistics\n",
        "\n",
        "infected_patients = [174, 335, 278, 214, 422, 513, 737, 672, 489, 412, 1301,\n",
        "1105, 1123, 1376, 1502, 894, 665, 1704, 1656, 1342]\n",
        "\n",
        "#print max number\n",
        "print(\"the maximum number of infected patients in 20 days is \" + str(max(infected_patients)))\n",
        "\n",
        "#print min number\n",
        "print(\"the minimum number of infected patients in 20 days is \" + str(min(infected_patients)))\n",
        "\n",
        "#print range\n",
        "range = max(infected_patients) - min(infected_patients)\n",
        "print(\"the range of the number of infected patients in 20 days is \" + str(range))\n",
        "\n",
        "#print mean\n",
        "mean = statistics.mean(infected_patients)\n",
        "print(\"the mean of the number of infected patients in 20 days is \" + str(mean))\n",
        "\n",
        "#print median\n",
        "median = statistics.median(infected_patients)\n",
        "print(\"the median of the number of infected patients in 20 days is \" + str(median))\n",
        "\n",
        "#print mode\n",
        "mode = statistics.mode(infected_patients)\n",
        "print(\"the mode of the number of infected patients in 20 days is \" + str(mode))\n",
        "\n",
        "#print variance\n",
        "variance = statistics.variance(infected_patients)\n",
        "print(\"the variance of the number of infected patients in 20 days is \" + str(variance))\n",
        "\n",
        "#print standard deviation\n",
        "standard_deviation = statistics.stdev(infected_patients)\n",
        "print(\"the standard deviation of the number of infected patients in 20 days is \" + str(standard_deviation))\n"
      ]
    }
  ]
}